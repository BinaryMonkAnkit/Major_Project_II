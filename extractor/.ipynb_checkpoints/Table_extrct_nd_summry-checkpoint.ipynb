{
 "cells": [
  {
   "cell_type": "code",
   "execution_count": null,
   "id": "1b38dcb1-7bec-45ba-a1c0-dc3e8730bce8",
   "metadata": {},
   "outputs": [],
   "source": [
    "%%capture\n",
    "%pip install \"unstructured[all-docs]\"\n",
    "\n"
   ]
  },
  {
   "cell_type": "code",
   "execution_count": null,
   "id": "a40e0280-9ee7-417e-aea1-f9ea3ae33f35",
   "metadata": {},
   "outputs": [],
   "source": [
    "# Warning control\n",
    "import warnings\n",
    "warnings.filterwarnings('ignore')\n"
   ]
  },
  {
   "cell_type": "code",
   "execution_count": null,
   "id": "0da0b682-a434-4b90-b853-c01541bc09b9",
   "metadata": {},
   "outputs": [],
   "source": [
    "\n",
    "from IPython.display import JSON\n",
    "\n",
    "import json\n",
    "\n",
    "from unstructured.partition.html import partition_html\n",
    "from unstructured.partition.pdf import partition_pdf\n",
    "from unstructured.staging.base import dict_to_elements, elements_to_json\n"
   ]
  },
  {
   "cell_type": "code",
   "execution_count": null,
   "id": "3fa3fe21-6ea5-480a-9c7e-a456459fc820",
   "metadata": {},
   "outputs": [],
   "source": [
    "\n",
    "%pip show unstructured\n"
   ]
  },
  {
   "cell_type": "code",
   "execution_count": null,
   "id": "25ac9712-06e9-4f87-9fdd-8472a4052004",
   "metadata": {},
   "outputs": [],
   "source": [
    "\n",
    "import unstructured.partition\n",
    "\n",
    "help(unstructured.partition)\n",
    "\n",
    "from unstructured.partition.pdf import partition_pdf\n",
    "\n",
    "# Specify the path to your PDF file\n",
    "filename = \"data/gpt4all.pdf\"\n",
    "\n",
    "# Call the partition_pdf function\n",
    "# Returns a List[Element] present in the pages of the parsed pdf document\n",
    "elements = partition_pdf(filename)\n",
    "\n",
    "# Now, elements is a list of all elements present in the pages of the parsed pdf document\n"
   ]
  },
  {
   "cell_type": "code",
   "execution_count": null,
   "id": "de32ee74-32c3-42f9-9a42-624a9b055a1e",
   "metadata": {},
   "outputs": [],
   "source": [
    "\n",
    "elements\n"
   ]
  },
  {
   "cell_type": "code",
   "execution_count": null,
   "id": "cf23c3f0-d878-4b39-9b7b-f2933799d628",
   "metadata": {},
   "outputs": [],
   "source": [
    "\n",
    "len(elements)\n"
   ]
  },
  {
   "cell_type": "code",
   "execution_count": null,
   "id": "b11edaae-b082-4d5d-9270-356f6a23a2bc",
   "metadata": {},
   "outputs": [],
   "source": [
    "\n",
    "element_dict = [el.to_dict() for el in elements]\n",
    "output = json.dumps(element_dict, indent=2)\n",
    "print(output)\n",
    "\n",
    "unique_types = set()\n",
    "\n",
    "for item in element_dict:\n",
    "    unique_types.add(item['type'])\n",
    "\n",
    "print(unique_types)\n",
    "\n",
    "from unstructured.partition.pdf import partition_pdf\n",
    "\n",
    "# Specify the path to your PDF file\n",
    "filename = \"data/scanned_gpt4all.pdf\"\n",
    "\n",
    "# Call the partition_pdf function\n",
    "# Returns a List[Element] present in the pages of the parsed pdf document\n",
    "elements = partition_pdf(filename)\n",
    "\n",
    "# Now, elements is a list of all elements present in the pages of the parsed pdf document\n",
    "\n",
    "elements\n",
    "\n",
    "len(elements)\n",
    "\n",
    "element_dict = [el.to_dict() for el in elements]\n",
    "output = json.dumps(element_dict, indent=2)\n",
    "print(output)\n",
    "\n",
    "from unstructured.partition.pdf import partition_pdf\n",
    "\n",
    "elements = partition_pdf(filename=filename,\n",
    "                         infer_table_structure=True,\n",
    "                         strategy='hi_res',\n",
    "           )\n",
    "\n",
    "len(elements)\n",
    "\n",
    "element_dict = [el.to_dict() for el in elements]\n",
    "output = json.dumps(element_dict, indent=2)\n",
    "print(output)\n",
    "\n",
    "unique_types = set()\n",
    "\n",
    "for item in element_dict:\n",
    "    unique_types.add(item['type'])\n",
    "\n",
    "print(unique_types)\n",
    "\n",
    "tables = [el for el in elements if el.category == \"Table\"]\n",
    "\n",
    "print(tables[0].text)\n",
    "print(tables[0].metadata.text_as_html)\n",
    "\n",
    "tables\n",
    "\n",
    "len(tables)\n",
    "\n",
    "tables[0].text\n",
    "\n",
    "tables[0].metadata\n",
    "\n",
    "table_html = tables[0].metadata.text_as_html\n",
    "\n",
    "table_html\n",
    "\n",
    "# view what the HTML in the metadata field looks like\n",
    "\n",
    "from io import StringIO \n",
    "from lxml import etree\n",
    "\n",
    "parser = etree.XMLParser(remove_blank_text=True)\n",
    "file_obj = StringIO(table_html)\n",
    "tree = etree.parse(file_obj, parser)\n",
    "print(etree.tostring(tree, pretty_print=True).decode())\n",
    "\n",
    "# let's display this table\n",
    "\n",
    "from IPython.core.display import HTML\n",
    "HTML(table_html)\n",
    "\n",
    "%%capture\n",
    "%pip install langchain-ollama langchain_core langchain_community\n",
    "\n",
    "from langchain_ollama import ChatOllama\n",
    "from langchain_core.documents import Document\n",
    "from langchain.chains.summarize import load_summarize_chain\n",
    "\n",
    "ChatOllama??\n",
    "\n",
    "llm = ChatOllama(model=\"llama3.1:8b\")\n",
    "chain = load_summarize_chain(llm, chain_type=\"stuff\")\n",
    "output = chain.invoke([Document(page_content=table_html)])\n",
    "\n",
    "output\n",
    "\n",
    "print(output['output_text'])\n",
    "\n",
    "%pip install pandas\n",
    "\n",
    "import pandas as pd\n",
    "\n",
    "# Convert HTML table to pandas DataFrame\n",
    "dfs = pd.read_html(table_html)\n",
    "\n",
    "dfs\n",
    "\n",
    "# Assuming there's only one table, get the DataFrame\n",
    "df = dfs[0]\n",
    "\n",
    "# Now you have the DataFrame\n",
    "print(df)\n",
    "\n",
    "df.shape\n",
    "\n",
    "df.head()"
   ]
  },
  {
   "cell_type": "code",
   "execution_count": null,
   "id": "27ae18a5-64d0-4a52-b3d0-ed67617c3ad9",
   "metadata": {},
   "outputs": [],
   "source": []
  },
  {
   "cell_type": "code",
   "execution_count": null,
   "id": "f991b25c-9b70-4b05-a591-d7e3216901fe",
   "metadata": {},
   "outputs": [],
   "source": []
  },
  {
   "cell_type": "code",
   "execution_count": null,
   "id": "37828a1c-c6f4-4041-b16d-49df48f7350f",
   "metadata": {},
   "outputs": [],
   "source": []
  },
  {
   "cell_type": "code",
   "execution_count": null,
   "id": "2900f96b-2a6e-4b80-b572-6f1711676cb0",
   "metadata": {},
   "outputs": [],
   "source": []
  },
  {
   "cell_type": "code",
   "execution_count": null,
   "id": "75ed4115-d6e6-4279-8407-1144a5f358d6",
   "metadata": {},
   "outputs": [],
   "source": []
  },
  {
   "cell_type": "code",
   "execution_count": null,
   "id": "9ed07ff2-69a9-4b4a-a863-05819245d52e",
   "metadata": {},
   "outputs": [],
   "source": []
  },
  {
   "cell_type": "code",
   "execution_count": null,
   "id": "bcb694dd-40f4-47e1-ac87-445b774e7816",
   "metadata": {},
   "outputs": [],
   "source": []
  },
  {
   "cell_type": "code",
   "execution_count": null,
   "id": "3c667d1f-de8a-4907-b24c-e166dc62576a",
   "metadata": {},
   "outputs": [],
   "source": []
  },
  {
   "cell_type": "code",
   "execution_count": null,
   "id": "290bd7e6-6c76-45f7-99db-6cff2a289468",
   "metadata": {},
   "outputs": [],
   "source": []
  },
  {
   "cell_type": "code",
   "execution_count": null,
   "id": "b89aa662-df9f-4090-9af6-d4896e5718cd",
   "metadata": {},
   "outputs": [],
   "source": []
  },
  {
   "cell_type": "code",
   "execution_count": null,
   "id": "d66d9b1a-3697-4cab-bb17-8d8b11ee753f",
   "metadata": {},
   "outputs": [],
   "source": []
  },
  {
   "cell_type": "code",
   "execution_count": null,
   "id": "48b221de-4617-44f3-9753-7fa64458a11f",
   "metadata": {},
   "outputs": [],
   "source": []
  },
  {
   "cell_type": "code",
   "execution_count": null,
   "id": "ea4c2c4a-599f-4633-ade3-2c68c21b9eae",
   "metadata": {},
   "outputs": [],
   "source": []
  },
  {
   "cell_type": "code",
   "execution_count": null,
   "id": "055dbcb3-3099-44ff-9370-88763d98ff8f",
   "metadata": {},
   "outputs": [],
   "source": []
  },
  {
   "cell_type": "code",
   "execution_count": null,
   "id": "515f8c4e-723b-4984-86cf-2d996c23e139",
   "metadata": {},
   "outputs": [],
   "source": []
  },
  {
   "cell_type": "code",
   "execution_count": null,
   "id": "99cdb7af-40e9-4a6a-8742-956b91e3904f",
   "metadata": {},
   "outputs": [],
   "source": []
  },
  {
   "cell_type": "code",
   "execution_count": null,
   "id": "99a7bf51-97f7-4e49-836e-36d19260a9a7",
   "metadata": {},
   "outputs": [],
   "source": []
  },
  {
   "cell_type": "code",
   "execution_count": null,
   "id": "7ad84e1a-2799-4d33-989e-51564b41432d",
   "metadata": {},
   "outputs": [],
   "source": []
  },
  {
   "cell_type": "code",
   "execution_count": null,
   "id": "abce267c-70a1-4cc4-81da-8f64ba68d447",
   "metadata": {},
   "outputs": [],
   "source": []
  },
  {
   "cell_type": "code",
   "execution_count": null,
   "id": "706eeeb6-1e24-4a4e-93b7-d6fed8477ae0",
   "metadata": {},
   "outputs": [],
   "source": []
  },
  {
   "cell_type": "code",
   "execution_count": null,
   "id": "b7a73a1b-563c-4ccb-a501-feb889204daa",
   "metadata": {},
   "outputs": [],
   "source": []
  },
  {
   "cell_type": "code",
   "execution_count": null,
   "id": "82b151fd-3e19-41fd-a596-b783a4f4a384",
   "metadata": {},
   "outputs": [],
   "source": []
  },
  {
   "cell_type": "code",
   "execution_count": null,
   "id": "d9a6a8a2-9239-421a-b313-e3cb04ed710a",
   "metadata": {},
   "outputs": [],
   "source": []
  },
  {
   "cell_type": "code",
   "execution_count": null,
   "id": "86d93741-6c9f-4efc-a85d-b96d4654dd7e",
   "metadata": {},
   "outputs": [],
   "source": []
  },
  {
   "cell_type": "code",
   "execution_count": null,
   "id": "2b5cf940-e57d-4c6e-b724-8fe9dd064b23",
   "metadata": {},
   "outputs": [],
   "source": []
  },
  {
   "cell_type": "code",
   "execution_count": null,
   "id": "e67891b8-df71-4510-aea4-bf1ed8350055",
   "metadata": {},
   "outputs": [],
   "source": []
  },
  {
   "cell_type": "code",
   "execution_count": null,
   "id": "50671a61-dd4d-4fb4-85ad-0bce900b8040",
   "metadata": {},
   "outputs": [],
   "source": []
  },
  {
   "cell_type": "code",
   "execution_count": null,
   "id": "7dc034fb-4b78-484e-87ca-9804c4eaff7a",
   "metadata": {},
   "outputs": [],
   "source": []
  },
  {
   "cell_type": "code",
   "execution_count": null,
   "id": "aa37e634-bee5-4e4e-a595-9459abe429f0",
   "metadata": {},
   "outputs": [],
   "source": []
  },
  {
   "cell_type": "code",
   "execution_count": null,
   "id": "5b3c91ac-7db2-4c91-a949-a71ebed49b12",
   "metadata": {},
   "outputs": [],
   "source": []
  },
  {
   "cell_type": "code",
   "execution_count": null,
   "id": "c8cb42bb-7bd2-4fbd-ba24-6c4ed852ea06",
   "metadata": {},
   "outputs": [],
   "source": []
  },
  {
   "cell_type": "code",
   "execution_count": null,
   "id": "18e17ea2-ca80-446f-bb80-86ab6c41cc13",
   "metadata": {},
   "outputs": [],
   "source": []
  },
  {
   "cell_type": "code",
   "execution_count": null,
   "id": "d5dfe3c2-5069-4c40-a6f8-58498a0d684a",
   "metadata": {},
   "outputs": [],
   "source": []
  }
 ],
 "metadata": {
  "kernelspec": {
   "display_name": "Python 3 (ipykernel)",
   "language": "python",
   "name": "python3"
  },
  "language_info": {
   "codemirror_mode": {
    "name": "ipython",
    "version": 3
   },
   "file_extension": ".py",
   "mimetype": "text/x-python",
   "name": "python",
   "nbconvert_exporter": "python",
   "pygments_lexer": "ipython3",
   "version": "3.11.5"
  }
 },
 "nbformat": 4,
 "nbformat_minor": 5
}
